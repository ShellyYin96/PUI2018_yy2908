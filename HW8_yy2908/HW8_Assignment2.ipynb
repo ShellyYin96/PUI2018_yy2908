{
 "cells": [
  {
   "cell_type": "markdown",
   "metadata": {},
   "source": [
    "IDEA:\n",
    "\n",
    "Is there any personal factors of customers (like age) related to number of riding? "
   ]
  },
  {
   "cell_type": "markdown",
   "metadata": {},
   "source": [
    "NULL HYPOTHESIS: \n",
    "\n",
    "The proportion of weekend trips taken by riders born after 1990 is the same or less than the proportion of weekend trips taken by riders born in or before 1990.\n",
    "\n",
    "\n",
    "H0: \n",
    "\n",
    "proportion(younger) - proportion(older) <= 0\n",
    "\n",
    "ALTERNATIVE HYPOTHESIS: \n",
    "\n",
    "The proportion of weekend trips taken by riders born after 1990 is greater than the proportion of weekend trips taken by riders born in or before 1990.\n",
    "\n",
    "\n",
    "HA: \n",
    "\n",
    "proportion(younger) - proportion(older) > 0\n",
    "\n",
    "Alpha level: 0.05"
   ]
  },
  {
   "cell_type": "code",
   "execution_count": 84,
   "metadata": {},
   "outputs": [
    {
     "name": "stdout",
     "output_type": "stream",
     "text": [
      "Populating the interactive namespace from numpy and matplotlib\n"
     ]
    }
   ],
   "source": [
    "from __future__ import print_function\n",
    "import os\n",
    "import pylab as pl\n",
    "from zipfile import PyZipFile\n",
    "import pandas as pd\n",
    "from dateutil import parser\n",
    "\n",
    "%pylab inline\n",
    "\n",
    "puidata = os.getenv(\"PUIDATA\")\n",
    "if puidata is None:\n",
    "    os.environ[\"PUIDATA\"] = \"%s/PUIdata\"%os.getenv(\"HOME\")\n",
    "    puidata = os.getenv(\"PUIDATA\")"
   ]
  },
  {
   "cell_type": "code",
   "execution_count": 85,
   "metadata": {},
   "outputs": [],
   "source": [
    "def getCitiBikeCSV(datestring):\n",
    "    print (\"Downloading\", datestring)\n",
    "    ### First I will heck that it is not already there\n",
    "    if not os.path.isfile(os.getenv(\"PUIDATA\") + \"/\" + datestring + \"-citibike-tripdata.csv\"):\n",
    "        if os.path.isfile(datestring + \"-citibike-tripdata.csv\"):\n",
    "            # if in the current dir just move it\n",
    "            if os.system(\"mv \" + datestring + \"-citibike-tripdata.csv \" + os.getenv(\"PUIDATA\")):\n",
    "                print (\"Error moving file!, Please check!\")\n",
    "        #otherwise start looking for the zip file\n",
    "        else:\n",
    "            if not os.path.isfile(os.getenv(\"PUIDATA\") + \"/\" + datestring + \"-citibike-tripdata.zip\"):\n",
    "                if not os.path.isfile(datestring + \"-citibike-tripdata.zip\"):\n",
    "                    os.system(\"curl -O https://s3.amazonaws.com/tripdata/\" + datestring + \"-citibike-tripdata.zip\")\n",
    "                ###  To move it I use the os.system() functions to run bash commands with arguments\n",
    "                os.system(\"mv \" + datestring + \"-citibike-tripdata.zip \" + os.getenv(\"PUIDATA\"))\n",
    "            ### unzip the csv \n",
    "            os.system(\"unzip \" + os.getenv(\"PUIDATA\") + \"/\" + datestring + \"-citibike-tripdata.zip\")\n",
    "            ## NOTE: old csv citibike data had a different name structure. \n",
    "            if '2014' in datestring:\n",
    "                os.system(\"mv \" + datestring[:4] + '-' +  datestring[4:] + \n",
    "                          \"\\ -\\ Citi\\ Bike\\ trip\\ data.csv \" + datestring + \"-citibike-tripdata.csv\")\n",
    "            os.system(\"mv \" + datestring + \"-citibike-tripdata.csv \" + os.getenv(\"PUIDATA\"))\n",
    "    ### One final check:\n",
    "    if not os.path.isfile(os.getenv(\"PUIDATA\") + \"/\" + datestring + \"-citibike-tripdata.csv\"):\n",
    "        print (\"WARNING!!! something is wrong: the file is not there!\")\n",
    "\n",
    "    else:\n",
    "        print (\"file in place, you can continue\")"
   ]
  },
  {
   "cell_type": "code",
   "execution_count": 86,
   "metadata": {},
   "outputs": [
    {
     "name": "stdout",
     "output_type": "stream",
     "text": [
      "PUIdata /nfshome/yy2908/PUIdata\n"
     ]
    }
   ],
   "source": [
    "print(\"PUIdata\", os.getenv(\"PUIDATA\"))"
   ]
  },
  {
   "cell_type": "code",
   "execution_count": 87,
   "metadata": {},
   "outputs": [
    {
     "name": "stdout",
     "output_type": "stream",
     "text": [
      "  % Total    % Received % Xferd  Average Speed   Time    Time     Time  Current\n",
      "                                 Dload  Upload   Total   Spent    Left  Speed\n",
      "100  887k  100  887k    0     0  5411k      0 --:--:-- --:--:-- --:--:-- 5414k\n"
     ]
    }
   ],
   "source": [
    "!curl https://s3.amazonaws.com/tripdata/JC-201805-citibike-tripdata.csv.zip > bikedata.zip"
   ]
  },
  {
   "cell_type": "code",
   "execution_count": 88,
   "metadata": {},
   "outputs": [
    {
     "name": "stdout",
     "output_type": "stream",
     "text": [
      "Downloading 201501\n",
      "file in place, you can continue\n"
     ]
    }
   ],
   "source": [
    "datestring = '201501'\n",
    "getCitiBikeCSV(datestring)"
   ]
  },
  {
   "cell_type": "code",
   "execution_count": 89,
   "metadata": {},
   "outputs": [],
   "source": [
    "bikedata = pd.read_csv(os.getenv(\"PUIDATA\") + \"/\" + datestring + '-citibike-tripdata.csv')"
   ]
  },
  {
   "cell_type": "code",
   "execution_count": 90,
   "metadata": {},
   "outputs": [
    {
     "data": {
      "text/html": [
       "<div>\n",
       "<style scoped>\n",
       "    .dataframe tbody tr th:only-of-type {\n",
       "        vertical-align: middle;\n",
       "    }\n",
       "\n",
       "    .dataframe tbody tr th {\n",
       "        vertical-align: top;\n",
       "    }\n",
       "\n",
       "    .dataframe thead th {\n",
       "        text-align: right;\n",
       "    }\n",
       "</style>\n",
       "<table border=\"1\" class=\"dataframe\">\n",
       "  <thead>\n",
       "    <tr style=\"text-align: right;\">\n",
       "      <th></th>\n",
       "      <th>tripduration</th>\n",
       "      <th>starttime</th>\n",
       "      <th>stoptime</th>\n",
       "      <th>start station id</th>\n",
       "      <th>start station name</th>\n",
       "      <th>start station latitude</th>\n",
       "      <th>start station longitude</th>\n",
       "      <th>end station id</th>\n",
       "      <th>end station name</th>\n",
       "      <th>end station latitude</th>\n",
       "      <th>end station longitude</th>\n",
       "      <th>bikeid</th>\n",
       "      <th>usertype</th>\n",
       "      <th>birth year</th>\n",
       "      <th>gender</th>\n",
       "    </tr>\n",
       "  </thead>\n",
       "  <tbody>\n",
       "    <tr>\n",
       "      <th>0</th>\n",
       "      <td>1346</td>\n",
       "      <td>1/1/2015 0:01</td>\n",
       "      <td>1/1/2015 0:24</td>\n",
       "      <td>455</td>\n",
       "      <td>1 Ave &amp; E 44 St</td>\n",
       "      <td>40.750020</td>\n",
       "      <td>-73.969053</td>\n",
       "      <td>265</td>\n",
       "      <td>Stanton St &amp; Chrystie St</td>\n",
       "      <td>40.722293</td>\n",
       "      <td>-73.991475</td>\n",
       "      <td>18660</td>\n",
       "      <td>Subscriber</td>\n",
       "      <td>1960.0</td>\n",
       "      <td>2</td>\n",
       "    </tr>\n",
       "    <tr>\n",
       "      <th>1</th>\n",
       "      <td>363</td>\n",
       "      <td>1/1/2015 0:02</td>\n",
       "      <td>1/1/2015 0:08</td>\n",
       "      <td>434</td>\n",
       "      <td>9 Ave &amp; W 18 St</td>\n",
       "      <td>40.743174</td>\n",
       "      <td>-74.003664</td>\n",
       "      <td>482</td>\n",
       "      <td>W 15 St &amp; 7 Ave</td>\n",
       "      <td>40.739355</td>\n",
       "      <td>-73.999318</td>\n",
       "      <td>16085</td>\n",
       "      <td>Subscriber</td>\n",
       "      <td>1963.0</td>\n",
       "      <td>1</td>\n",
       "    </tr>\n",
       "    <tr>\n",
       "      <th>2</th>\n",
       "      <td>346</td>\n",
       "      <td>1/1/2015 0:04</td>\n",
       "      <td>1/1/2015 0:10</td>\n",
       "      <td>491</td>\n",
       "      <td>E 24 St &amp; Park Ave S</td>\n",
       "      <td>40.740964</td>\n",
       "      <td>-73.986022</td>\n",
       "      <td>505</td>\n",
       "      <td>6 Ave &amp; W 33 St</td>\n",
       "      <td>40.749013</td>\n",
       "      <td>-73.988484</td>\n",
       "      <td>20845</td>\n",
       "      <td>Subscriber</td>\n",
       "      <td>1974.0</td>\n",
       "      <td>1</td>\n",
       "    </tr>\n",
       "    <tr>\n",
       "      <th>3</th>\n",
       "      <td>182</td>\n",
       "      <td>1/1/2015 0:04</td>\n",
       "      <td>1/1/2015 0:07</td>\n",
       "      <td>384</td>\n",
       "      <td>Fulton St &amp; Waverly Ave</td>\n",
       "      <td>40.683178</td>\n",
       "      <td>-73.965964</td>\n",
       "      <td>399</td>\n",
       "      <td>Lafayette Ave &amp; St James Pl</td>\n",
       "      <td>40.688515</td>\n",
       "      <td>-73.964763</td>\n",
       "      <td>19610</td>\n",
       "      <td>Subscriber</td>\n",
       "      <td>1969.0</td>\n",
       "      <td>1</td>\n",
       "    </tr>\n",
       "    <tr>\n",
       "      <th>4</th>\n",
       "      <td>969</td>\n",
       "      <td>1/1/2015 0:05</td>\n",
       "      <td>1/1/2015 0:21</td>\n",
       "      <td>474</td>\n",
       "      <td>5 Ave &amp; E 29 St</td>\n",
       "      <td>40.745168</td>\n",
       "      <td>-73.986831</td>\n",
       "      <td>432</td>\n",
       "      <td>E 7 St &amp; Avenue A</td>\n",
       "      <td>40.726218</td>\n",
       "      <td>-73.983799</td>\n",
       "      <td>20197</td>\n",
       "      <td>Subscriber</td>\n",
       "      <td>1977.0</td>\n",
       "      <td>1</td>\n",
       "    </tr>\n",
       "    <tr>\n",
       "      <th>5</th>\n",
       "      <td>496</td>\n",
       "      <td>1/1/2015 0:07</td>\n",
       "      <td>1/1/2015 0:15</td>\n",
       "      <td>512</td>\n",
       "      <td>W 29 St &amp; 9 Ave</td>\n",
       "      <td>40.750073</td>\n",
       "      <td>-73.998393</td>\n",
       "      <td>383</td>\n",
       "      <td>Greenwich Ave &amp; Charles St</td>\n",
       "      <td>40.735238</td>\n",
       "      <td>-74.000271</td>\n",
       "      <td>20788</td>\n",
       "      <td>Subscriber</td>\n",
       "      <td>1969.0</td>\n",
       "      <td>2</td>\n",
       "    </tr>\n",
       "    <tr>\n",
       "      <th>6</th>\n",
       "      <td>152</td>\n",
       "      <td>1/1/2015 0:07</td>\n",
       "      <td>1/1/2015 0:09</td>\n",
       "      <td>498</td>\n",
       "      <td>Broadway &amp; W 32 St</td>\n",
       "      <td>40.748549</td>\n",
       "      <td>-73.988084</td>\n",
       "      <td>474</td>\n",
       "      <td>5 Ave &amp; E 29 St</td>\n",
       "      <td>40.745168</td>\n",
       "      <td>-73.986831</td>\n",
       "      <td>19006</td>\n",
       "      <td>Subscriber</td>\n",
       "      <td>1972.0</td>\n",
       "      <td>1</td>\n",
       "    </tr>\n",
       "    <tr>\n",
       "      <th>7</th>\n",
       "      <td>1183</td>\n",
       "      <td>1/1/2015 0:08</td>\n",
       "      <td>1/1/2015 0:28</td>\n",
       "      <td>405</td>\n",
       "      <td>Washington St &amp; Gansevoort St</td>\n",
       "      <td>40.739323</td>\n",
       "      <td>-74.008119</td>\n",
       "      <td>174</td>\n",
       "      <td>E 25 St &amp; 1 Ave</td>\n",
       "      <td>40.738177</td>\n",
       "      <td>-73.977387</td>\n",
       "      <td>17640</td>\n",
       "      <td>Subscriber</td>\n",
       "      <td>1985.0</td>\n",
       "      <td>2</td>\n",
       "    </tr>\n",
       "    <tr>\n",
       "      <th>8</th>\n",
       "      <td>846</td>\n",
       "      <td>1/1/2015 0:09</td>\n",
       "      <td>1/1/2015 0:23</td>\n",
       "      <td>450</td>\n",
       "      <td>W 49 St &amp; 8 Ave</td>\n",
       "      <td>40.762272</td>\n",
       "      <td>-73.987882</td>\n",
       "      <td>488</td>\n",
       "      <td>W 39 St &amp; 9 Ave</td>\n",
       "      <td>40.756458</td>\n",
       "      <td>-73.993722</td>\n",
       "      <td>15691</td>\n",
       "      <td>Subscriber</td>\n",
       "      <td>1991.0</td>\n",
       "      <td>1</td>\n",
       "    </tr>\n",
       "    <tr>\n",
       "      <th>9</th>\n",
       "      <td>576</td>\n",
       "      <td>1/1/2015 0:10</td>\n",
       "      <td>1/1/2015 0:20</td>\n",
       "      <td>160</td>\n",
       "      <td>E 37 St &amp; Lexington Ave</td>\n",
       "      <td>40.748238</td>\n",
       "      <td>-73.978311</td>\n",
       "      <td>174</td>\n",
       "      <td>E 25 St &amp; 1 Ave</td>\n",
       "      <td>40.738177</td>\n",
       "      <td>-73.977387</td>\n",
       "      <td>17837</td>\n",
       "      <td>Subscriber</td>\n",
       "      <td>1991.0</td>\n",
       "      <td>1</td>\n",
       "    </tr>\n",
       "  </tbody>\n",
       "</table>\n",
       "</div>"
      ],
      "text/plain": [
       "   tripduration      starttime       stoptime  start station id  \\\n",
       "0          1346  1/1/2015 0:01  1/1/2015 0:24               455   \n",
       "1           363  1/1/2015 0:02  1/1/2015 0:08               434   \n",
       "2           346  1/1/2015 0:04  1/1/2015 0:10               491   \n",
       "3           182  1/1/2015 0:04  1/1/2015 0:07               384   \n",
       "4           969  1/1/2015 0:05  1/1/2015 0:21               474   \n",
       "5           496  1/1/2015 0:07  1/1/2015 0:15               512   \n",
       "6           152  1/1/2015 0:07  1/1/2015 0:09               498   \n",
       "7          1183  1/1/2015 0:08  1/1/2015 0:28               405   \n",
       "8           846  1/1/2015 0:09  1/1/2015 0:23               450   \n",
       "9           576  1/1/2015 0:10  1/1/2015 0:20               160   \n",
       "\n",
       "              start station name  start station latitude  \\\n",
       "0                1 Ave & E 44 St               40.750020   \n",
       "1                9 Ave & W 18 St               40.743174   \n",
       "2           E 24 St & Park Ave S               40.740964   \n",
       "3        Fulton St & Waverly Ave               40.683178   \n",
       "4                5 Ave & E 29 St               40.745168   \n",
       "5                W 29 St & 9 Ave               40.750073   \n",
       "6             Broadway & W 32 St               40.748549   \n",
       "7  Washington St & Gansevoort St               40.739323   \n",
       "8                W 49 St & 8 Ave               40.762272   \n",
       "9        E 37 St & Lexington Ave               40.748238   \n",
       "\n",
       "   start station longitude  end station id             end station name  \\\n",
       "0               -73.969053             265     Stanton St & Chrystie St   \n",
       "1               -74.003664             482              W 15 St & 7 Ave   \n",
       "2               -73.986022             505              6 Ave & W 33 St   \n",
       "3               -73.965964             399  Lafayette Ave & St James Pl   \n",
       "4               -73.986831             432            E 7 St & Avenue A   \n",
       "5               -73.998393             383   Greenwich Ave & Charles St   \n",
       "6               -73.988084             474              5 Ave & E 29 St   \n",
       "7               -74.008119             174              E 25 St & 1 Ave   \n",
       "8               -73.987882             488              W 39 St & 9 Ave   \n",
       "9               -73.978311             174              E 25 St & 1 Ave   \n",
       "\n",
       "   end station latitude  end station longitude  bikeid    usertype  \\\n",
       "0             40.722293             -73.991475   18660  Subscriber   \n",
       "1             40.739355             -73.999318   16085  Subscriber   \n",
       "2             40.749013             -73.988484   20845  Subscriber   \n",
       "3             40.688515             -73.964763   19610  Subscriber   \n",
       "4             40.726218             -73.983799   20197  Subscriber   \n",
       "5             40.735238             -74.000271   20788  Subscriber   \n",
       "6             40.745168             -73.986831   19006  Subscriber   \n",
       "7             40.738177             -73.977387   17640  Subscriber   \n",
       "8             40.756458             -73.993722   15691  Subscriber   \n",
       "9             40.738177             -73.977387   17837  Subscriber   \n",
       "\n",
       "   birth year  gender  \n",
       "0      1960.0       2  \n",
       "1      1963.0       1  \n",
       "2      1974.0       1  \n",
       "3      1969.0       1  \n",
       "4      1977.0       1  \n",
       "5      1969.0       2  \n",
       "6      1972.0       1  \n",
       "7      1985.0       2  \n",
       "8      1991.0       1  \n",
       "9      1991.0       1  "
      ]
     },
     "execution_count": 90,
     "metadata": {},
     "output_type": "execute_result"
    }
   ],
   "source": [
    "bikedata.head(10)"
   ]
  },
  {
   "cell_type": "code",
   "execution_count": 91,
   "metadata": {},
   "outputs": [
    {
     "data": {
      "text/plain": [
       "Index(['tripduration', 'starttime', 'stoptime', 'start station id',\n",
       "       'start station name', 'start station latitude',\n",
       "       'start station longitude', 'end station id', 'end station name',\n",
       "       'end station latitude', 'end station longitude', 'bikeid', 'usertype',\n",
       "       'birth year', 'gender'],\n",
       "      dtype='object')"
      ]
     },
     "execution_count": 91,
     "metadata": {},
     "output_type": "execute_result"
    }
   ],
   "source": [
    "bikedata.columns"
   ]
  },
  {
   "cell_type": "code",
   "execution_count": 92,
   "metadata": {},
   "outputs": [
    {
     "data": {
      "text/plain": [
       "4283280"
      ]
     },
     "execution_count": 92,
     "metadata": {},
     "output_type": "execute_result"
    }
   ],
   "source": [
    "bikedata.size"
   ]
  },
  {
   "cell_type": "code",
   "execution_count": 93,
   "metadata": {},
   "outputs": [],
   "source": [
    "df = bikedata[['tripduration','birth year', 'starttime', 'gender']]"
   ]
  },
  {
   "cell_type": "code",
   "execution_count": 94,
   "metadata": {},
   "outputs": [
    {
     "data": {
      "text/html": [
       "<div>\n",
       "<style scoped>\n",
       "    .dataframe tbody tr th:only-of-type {\n",
       "        vertical-align: middle;\n",
       "    }\n",
       "\n",
       "    .dataframe tbody tr th {\n",
       "        vertical-align: top;\n",
       "    }\n",
       "\n",
       "    .dataframe thead th {\n",
       "        text-align: right;\n",
       "    }\n",
       "</style>\n",
       "<table border=\"1\" class=\"dataframe\">\n",
       "  <thead>\n",
       "    <tr style=\"text-align: right;\">\n",
       "      <th></th>\n",
       "      <th>tripduration</th>\n",
       "      <th>birth year</th>\n",
       "      <th>starttime</th>\n",
       "      <th>gender</th>\n",
       "    </tr>\n",
       "  </thead>\n",
       "  <tbody>\n",
       "    <tr>\n",
       "      <th>285542</th>\n",
       "      <td>429</td>\n",
       "      <td>1991.0</td>\n",
       "      <td>1/31/2015 23:54</td>\n",
       "      <td>1</td>\n",
       "    </tr>\n",
       "    <tr>\n",
       "      <th>285543</th>\n",
       "      <td>229</td>\n",
       "      <td>1985.0</td>\n",
       "      <td>1/31/2015 23:55</td>\n",
       "      <td>2</td>\n",
       "    </tr>\n",
       "    <tr>\n",
       "      <th>285544</th>\n",
       "      <td>401</td>\n",
       "      <td>1971.0</td>\n",
       "      <td>1/31/2015 23:56</td>\n",
       "      <td>1</td>\n",
       "    </tr>\n",
       "    <tr>\n",
       "      <th>285545</th>\n",
       "      <td>296</td>\n",
       "      <td>1983.0</td>\n",
       "      <td>1/31/2015 23:56</td>\n",
       "      <td>1</td>\n",
       "    </tr>\n",
       "    <tr>\n",
       "      <th>285546</th>\n",
       "      <td>993</td>\n",
       "      <td>1970.0</td>\n",
       "      <td>1/31/2015 23:57</td>\n",
       "      <td>1</td>\n",
       "    </tr>\n",
       "    <tr>\n",
       "      <th>285547</th>\n",
       "      <td>169</td>\n",
       "      <td>1956.0</td>\n",
       "      <td>1/31/2015 23:57</td>\n",
       "      <td>1</td>\n",
       "    </tr>\n",
       "    <tr>\n",
       "      <th>285548</th>\n",
       "      <td>827</td>\n",
       "      <td>1976.0</td>\n",
       "      <td>1/31/2015 23:58</td>\n",
       "      <td>1</td>\n",
       "    </tr>\n",
       "    <tr>\n",
       "      <th>285549</th>\n",
       "      <td>798</td>\n",
       "      <td>1994.0</td>\n",
       "      <td>1/31/2015 23:58</td>\n",
       "      <td>1</td>\n",
       "    </tr>\n",
       "    <tr>\n",
       "      <th>285550</th>\n",
       "      <td>725</td>\n",
       "      <td>1957.0</td>\n",
       "      <td>1/31/2015 23:58</td>\n",
       "      <td>1</td>\n",
       "    </tr>\n",
       "    <tr>\n",
       "      <th>285551</th>\n",
       "      <td>892</td>\n",
       "      <td>1974.0</td>\n",
       "      <td>1/31/2015 23:59</td>\n",
       "      <td>1</td>\n",
       "    </tr>\n",
       "  </tbody>\n",
       "</table>\n",
       "</div>"
      ],
      "text/plain": [
       "        tripduration  birth year        starttime  gender\n",
       "285542           429      1991.0  1/31/2015 23:54       1\n",
       "285543           229      1985.0  1/31/2015 23:55       2\n",
       "285544           401      1971.0  1/31/2015 23:56       1\n",
       "285545           296      1983.0  1/31/2015 23:56       1\n",
       "285546           993      1970.0  1/31/2015 23:57       1\n",
       "285547           169      1956.0  1/31/2015 23:57       1\n",
       "285548           827      1976.0  1/31/2015 23:58       1\n",
       "285549           798      1994.0  1/31/2015 23:58       1\n",
       "285550           725      1957.0  1/31/2015 23:58       1\n",
       "285551           892      1974.0  1/31/2015 23:59       1"
      ]
     },
     "execution_count": 94,
     "metadata": {},
     "output_type": "execute_result"
    }
   ],
   "source": [
    "df.tail(10)"
   ]
  },
  {
   "cell_type": "code",
   "execution_count": 143,
   "metadata": {},
   "outputs": [
    {
     "data": {
      "text/html": [
       "<div>\n",
       "<style scoped>\n",
       "    .dataframe tbody tr th:only-of-type {\n",
       "        vertical-align: middle;\n",
       "    }\n",
       "\n",
       "    .dataframe tbody tr th {\n",
       "        vertical-align: top;\n",
       "    }\n",
       "\n",
       "    .dataframe thead th {\n",
       "        text-align: right;\n",
       "    }\n",
       "</style>\n",
       "<table border=\"1\" class=\"dataframe\">\n",
       "  <thead>\n",
       "    <tr style=\"text-align: right;\">\n",
       "      <th></th>\n",
       "      <th>index</th>\n",
       "      <th>tripduration</th>\n",
       "      <th>birth year</th>\n",
       "      <th>starttime</th>\n",
       "      <th>gender</th>\n",
       "      <th>ratio</th>\n",
       "      <th>date</th>\n",
       "      <th>&gt;1990</th>\n",
       "      <th>Total</th>\n",
       "    </tr>\n",
       "  </thead>\n",
       "  <tbody>\n",
       "    <tr>\n",
       "      <th>0</th>\n",
       "      <td>0</td>\n",
       "      <td>1346</td>\n",
       "      <td>1960.0</td>\n",
       "      <td>1/1/2015 0:01</td>\n",
       "      <td>2</td>\n",
       "      <td>0.984430</td>\n",
       "      <td>2015-01-01 00:01:00</td>\n",
       "      <td>0.0</td>\n",
       "      <td>1959425167</td>\n",
       "    </tr>\n",
       "    <tr>\n",
       "      <th>1</th>\n",
       "      <td>1</td>\n",
       "      <td>363</td>\n",
       "      <td>1963.0</td>\n",
       "      <td>1/1/2015 0:02</td>\n",
       "      <td>1</td>\n",
       "      <td>0.985937</td>\n",
       "      <td>2015-01-01 00:02:00</td>\n",
       "      <td>0.0</td>\n",
       "      <td>1959425167</td>\n",
       "    </tr>\n",
       "    <tr>\n",
       "      <th>2</th>\n",
       "      <td>2</td>\n",
       "      <td>346</td>\n",
       "      <td>1974.0</td>\n",
       "      <td>1/1/2015 0:04</td>\n",
       "      <td>1</td>\n",
       "      <td>0.988978</td>\n",
       "      <td>2015-01-01 00:04:00</td>\n",
       "      <td>0.0</td>\n",
       "      <td>1959425167</td>\n",
       "    </tr>\n",
       "    <tr>\n",
       "      <th>3</th>\n",
       "      <td>3</td>\n",
       "      <td>182</td>\n",
       "      <td>1969.0</td>\n",
       "      <td>1/1/2015 0:04</td>\n",
       "      <td>1</td>\n",
       "      <td>0.987958</td>\n",
       "      <td>2015-01-01 00:04:00</td>\n",
       "      <td>0.0</td>\n",
       "      <td>1959425167</td>\n",
       "    </tr>\n",
       "    <tr>\n",
       "      <th>4</th>\n",
       "      <td>4</td>\n",
       "      <td>969</td>\n",
       "      <td>1977.0</td>\n",
       "      <td>1/1/2015 0:05</td>\n",
       "      <td>1</td>\n",
       "      <td>0.990481</td>\n",
       "      <td>2015-01-01 00:05:00</td>\n",
       "      <td>0.0</td>\n",
       "      <td>1959425167</td>\n",
       "    </tr>\n",
       "  </tbody>\n",
       "</table>\n",
       "</div>"
      ],
      "text/plain": [
       "   index  tripduration  birth year      starttime  gender     ratio  \\\n",
       "0      0          1346      1960.0  1/1/2015 0:01       2  0.984430   \n",
       "1      1           363      1963.0  1/1/2015 0:02       1  0.985937   \n",
       "2      2           346      1974.0  1/1/2015 0:04       1  0.988978   \n",
       "3      3           182      1969.0  1/1/2015 0:04       1  0.987958   \n",
       "4      4           969      1977.0  1/1/2015 0:05       1  0.990481   \n",
       "\n",
       "                 date  >1990       Total  \n",
       "0 2015-01-01 00:01:00    0.0  1959425167  \n",
       "1 2015-01-01 00:02:00    0.0  1959425167  \n",
       "2 2015-01-01 00:04:00    0.0  1959425167  \n",
       "3 2015-01-01 00:04:00    0.0  1959425167  \n",
       "4 2015-01-01 00:05:00    0.0  1959425167  "
      ]
     },
     "execution_count": 143,
     "metadata": {},
     "output_type": "execute_result"
    }
   ],
   "source": [
    "df1 = df[df['birth year'] < 1990.0].reset_index()\n",
    "df1['Total'] = df2['index'].sum()\n",
    "df1.head()"
   ]
  },
  {
   "cell_type": "code",
   "execution_count": 106,
   "metadata": {},
   "outputs": [
    {
     "data": {
      "text/html": [
       "<div>\n",
       "<style scoped>\n",
       "    .dataframe tbody tr th:only-of-type {\n",
       "        vertical-align: middle;\n",
       "    }\n",
       "\n",
       "    .dataframe tbody tr th {\n",
       "        vertical-align: top;\n",
       "    }\n",
       "\n",
       "    .dataframe thead th {\n",
       "        text-align: right;\n",
       "    }\n",
       "</style>\n",
       "<table border=\"1\" class=\"dataframe\">\n",
       "  <thead>\n",
       "    <tr style=\"text-align: right;\">\n",
       "      <th></th>\n",
       "      <th>index</th>\n",
       "      <th>tripduration</th>\n",
       "      <th>birth year</th>\n",
       "      <th>starttime</th>\n",
       "      <th>gender</th>\n",
       "      <th>Total</th>\n",
       "    </tr>\n",
       "  </thead>\n",
       "  <tbody>\n",
       "    <tr>\n",
       "      <th>0</th>\n",
       "      <td>8</td>\n",
       "      <td>846</td>\n",
       "      <td>1991.0</td>\n",
       "      <td>1/1/2015 0:09</td>\n",
       "      <td>1</td>\n",
       "      <td>1959425167</td>\n",
       "    </tr>\n",
       "    <tr>\n",
       "      <th>1</th>\n",
       "      <td>9</td>\n",
       "      <td>576</td>\n",
       "      <td>1991.0</td>\n",
       "      <td>1/1/2015 0:10</td>\n",
       "      <td>1</td>\n",
       "      <td>1959425167</td>\n",
       "    </tr>\n",
       "    <tr>\n",
       "      <th>2</th>\n",
       "      <td>27</td>\n",
       "      <td>1639</td>\n",
       "      <td>1996.0</td>\n",
       "      <td>1/1/2015 0:22</td>\n",
       "      <td>2</td>\n",
       "      <td>1959425167</td>\n",
       "    </tr>\n",
       "    <tr>\n",
       "      <th>3</th>\n",
       "      <td>54</td>\n",
       "      <td>232</td>\n",
       "      <td>1993.0</td>\n",
       "      <td>1/1/2015 0:32</td>\n",
       "      <td>1</td>\n",
       "      <td>1959425167</td>\n",
       "    </tr>\n",
       "    <tr>\n",
       "      <th>4</th>\n",
       "      <td>109</td>\n",
       "      <td>1384</td>\n",
       "      <td>1996.0</td>\n",
       "      <td>1/1/2015 0:58</td>\n",
       "      <td>2</td>\n",
       "      <td>1959425167</td>\n",
       "    </tr>\n",
       "  </tbody>\n",
       "</table>\n",
       "</div>"
      ],
      "text/plain": [
       "   index  tripduration  birth year      starttime  gender       Total\n",
       "0      8           846      1991.0  1/1/2015 0:09       1  1959425167\n",
       "1      9           576      1991.0  1/1/2015 0:10       1  1959425167\n",
       "2     27          1639      1996.0  1/1/2015 0:22       2  1959425167\n",
       "3     54           232      1993.0  1/1/2015 0:32       1  1959425167\n",
       "4    109          1384      1996.0  1/1/2015 0:58       2  1959425167"
      ]
     },
     "execution_count": 106,
     "metadata": {},
     "output_type": "execute_result"
    }
   ],
   "source": [
    "df2 = df[df['birth year'] > 1990.0].reset_index()\n",
    "df2['Total'] = df2['index'].sum()\n",
    "df2.head()"
   ]
  },
  {
   "cell_type": "code",
   "execution_count": 108,
   "metadata": {},
   "outputs": [
    {
     "name": "stderr",
     "output_type": "stream",
     "text": [
      "/nfshome/yy2908/.conda/envs/Shelly/lib/python3.6/site-packages/ipykernel_launcher.py:1: SettingWithCopyWarning: \n",
      "A value is trying to be set on a copy of a slice from a DataFrame.\n",
      "Try using .loc[row_indexer,col_indexer] = value instead\n",
      "\n",
      "See the caveats in the documentation: http://pandas.pydata.org/pandas-docs/stable/indexing.html#indexing-view-versus-copy\n",
      "  \"\"\"Entry point for launching an IPython kernel.\n"
     ]
    },
    {
     "data": {
      "text/plain": [
       "<matplotlib.axes._subplots.AxesSubplot at 0x7fbf981a0780>"
      ]
     },
     "execution_count": 108,
     "metadata": {},
     "output_type": "execute_result"
    },
    {
     "data": {
      "image/png": "[encoded data removed]",
      "text/plain": [
       "<Figure size 720x720 with 1 Axes>"
      ]
     },
     "metadata": {
      "needs_background": "light"
     },
     "output_type": "display_data"
    }
   ],
   "source": [
    "df['ratio'] = df1['birth year']/df2['birth year']\n",
    "df['ratio'].hist(bins=50)"
   ]
  },
  {
   "cell_type": "code",
   "execution_count": 107,
   "metadata": {},
   "outputs": [
    {
     "data": {
      "text/plain": [
       "(13012, 6)"
      ]
     },
     "execution_count": 107,
     "metadata": {},
     "output_type": "execute_result"
    }
   ],
   "source": [
    "df2.shape"
   ]
  },
  {
   "cell_type": "code",
   "execution_count": 109,
   "metadata": {},
   "outputs": [
    {
     "data": {
      "text/plain": [
       "<matplotlib.axes._subplots.AxesSubplot at 0x7fbf981d0ef0>"
      ]
     },
     "execution_count": 109,
     "metadata": {},
     "output_type": "execute_result"
    },
    {
     "data": {
      "image/png": "[encoded data removed]",
      "text/plain": [
       "<Figure size 720x720 with 1 Axes>"
      ]
     },
     "metadata": {
      "needs_background": "light"
     },
     "output_type": "display_data"
    }
   ],
   "source": [
    "df['ratio'].plot(kind='kde')"
   ]
  },
  {
   "cell_type": "code",
   "execution_count": 110,
   "metadata": {},
   "outputs": [
    {
     "data": {
      "text/plain": [
       "Text(0.5,1,'Changes in log birth year vs. log tripduration')"
      ]
     },
     "execution_count": 110,
     "metadata": {},
     "output_type": "execute_result"
    },
    {
     "data": {
      "image/png": "[encoded data removed]",
      "text/plain": [
       "<Figure size 720x720 with 1 Axes>"
      ]
     },
     "metadata": {
      "needs_background": "light"
     },
     "output_type": "display_data"
    }
   ],
   "source": [
    "plt.scatter(df['birth year'],df['tripduration'])\n",
    "plt.title('Changes in log %s vs. log %s' % ('birth year','tripduration'))"
   ]
  },
  {
   "cell_type": "code",
   "execution_count": 111,
   "metadata": {},
   "outputs": [
    {
     "name": "stderr",
     "output_type": "stream",
     "text": [
      "/nfshome/yy2908/.conda/envs/Shelly/lib/python3.6/site-packages/ipykernel_launcher.py:1: SettingWithCopyWarning: \n",
      "A value is trying to be set on a copy of a slice from a DataFrame.\n",
      "Try using .loc[row_indexer,col_indexer] = value instead\n",
      "\n",
      "See the caveats in the documentation: http://pandas.pydata.org/pandas-docs/stable/indexing.html#indexing-view-versus-copy\n",
      "  \"\"\"Entry point for launching an IPython kernel.\n"
     ]
    }
   ],
   "source": [
    "df['date'] = pd.to_datetime(df['starttime'])"
   ]
  },
  {
   "cell_type": "code",
   "execution_count": 117,
   "metadata": {},
   "outputs": [
    {
     "name": "stderr",
     "output_type": "stream",
     "text": [
      "/nfshome/yy2908/.conda/envs/Shelly/lib/python3.6/site-packages/pandas/core/indexing.py:543: SettingWithCopyWarning: \n",
      "A value is trying to be set on a copy of a slice from a DataFrame.\n",
      "Try using .loc[row_indexer,col_indexer] = value instead\n",
      "\n",
      "See the caveats in the documentation: http://pandas.pydata.org/pandas-docs/stable/indexing.html#indexing-view-versus-copy\n",
      "  self.obj[item] = s\n"
     ]
    }
   ],
   "source": [
    "df.loc[df['birth year'] > 1990, '>1990'] = 1\n",
    "df.loc[df['birth year'] <= 1990, '>1990'] = 0"
   ]
  },
  {
   "cell_type": "code",
   "execution_count": 142,
   "metadata": {},
   "outputs": [
    {
     "data": {
      "text/html": [
       "<div>\n",
       "<style scoped>\n",
       "    .dataframe tbody tr th:only-of-type {\n",
       "        vertical-align: middle;\n",
       "    }\n",
       "\n",
       "    .dataframe tbody tr th {\n",
       "        vertical-align: top;\n",
       "    }\n",
       "\n",
       "    .dataframe thead th {\n",
       "        text-align: right;\n",
       "    }\n",
       "</style>\n",
       "<table border=\"1\" class=\"dataframe\">\n",
       "  <thead>\n",
       "    <tr style=\"text-align: right;\">\n",
       "      <th></th>\n",
       "      <th>tripduration</th>\n",
       "      <th>birth year</th>\n",
       "      <th>starttime</th>\n",
       "      <th>gender</th>\n",
       "      <th>ratio</th>\n",
       "      <th>date</th>\n",
       "      <th>&gt;1990</th>\n",
       "    </tr>\n",
       "  </thead>\n",
       "  <tbody>\n",
       "    <tr>\n",
       "      <th>0</th>\n",
       "      <td>1346</td>\n",
       "      <td>1960.0</td>\n",
       "      <td>1/1/2015 0:01</td>\n",
       "      <td>2</td>\n",
       "      <td>0.984430</td>\n",
       "      <td>2015-01-01 00:01:00</td>\n",
       "      <td>0.0</td>\n",
       "    </tr>\n",
       "    <tr>\n",
       "      <th>1</th>\n",
       "      <td>363</td>\n",
       "      <td>1963.0</td>\n",
       "      <td>1/1/2015 0:02</td>\n",
       "      <td>1</td>\n",
       "      <td>0.985937</td>\n",
       "      <td>2015-01-01 00:02:00</td>\n",
       "      <td>0.0</td>\n",
       "    </tr>\n",
       "    <tr>\n",
       "      <th>2</th>\n",
       "      <td>346</td>\n",
       "      <td>1974.0</td>\n",
       "      <td>1/1/2015 0:04</td>\n",
       "      <td>1</td>\n",
       "      <td>0.988978</td>\n",
       "      <td>2015-01-01 00:04:00</td>\n",
       "      <td>0.0</td>\n",
       "    </tr>\n",
       "    <tr>\n",
       "      <th>3</th>\n",
       "      <td>182</td>\n",
       "      <td>1969.0</td>\n",
       "      <td>1/1/2015 0:04</td>\n",
       "      <td>1</td>\n",
       "      <td>0.987958</td>\n",
       "      <td>2015-01-01 00:04:00</td>\n",
       "      <td>0.0</td>\n",
       "    </tr>\n",
       "    <tr>\n",
       "      <th>4</th>\n",
       "      <td>969</td>\n",
       "      <td>1977.0</td>\n",
       "      <td>1/1/2015 0:05</td>\n",
       "      <td>1</td>\n",
       "      <td>0.990481</td>\n",
       "      <td>2015-01-01 00:05:00</td>\n",
       "      <td>0.0</td>\n",
       "    </tr>\n",
       "  </tbody>\n",
       "</table>\n",
       "</div>"
      ],
      "text/plain": [
       "   tripduration  birth year      starttime  gender     ratio  \\\n",
       "0          1346      1960.0  1/1/2015 0:01       2  0.984430   \n",
       "1           363      1963.0  1/1/2015 0:02       1  0.985937   \n",
       "2           346      1974.0  1/1/2015 0:04       1  0.988978   \n",
       "3           182      1969.0  1/1/2015 0:04       1  0.987958   \n",
       "4           969      1977.0  1/1/2015 0:05       1  0.990481   \n",
       "\n",
       "                 date  >1990  \n",
       "0 2015-01-01 00:01:00    0.0  \n",
       "1 2015-01-01 00:02:00    0.0  \n",
       "2 2015-01-01 00:04:00    0.0  \n",
       "3 2015-01-01 00:04:00    0.0  \n",
       "4 2015-01-01 00:05:00    0.0  "
      ]
     },
     "execution_count": 142,
     "metadata": {},
     "output_type": "execute_result"
    }
   ],
   "source": [
    "df.head()"
   ]
  },
  {
   "cell_type": "code",
   "execution_count": 118,
   "metadata": {
    "scrolled": false
   },
   "outputs": [
    {
     "data": {
      "text/plain": [
       "<matplotlib.legend.Legend at 0x7fbf79b98320>"
      ]
     },
     "execution_count": 118,
     "metadata": {},
     "output_type": "execute_result"
    },
    {
     "data": {
      "image/png": "[encoded data removed]",
      "text/plain": [
       "<Figure size 720x720 with 1 Axes>"
      ]
     },
     "metadata": {
      "needs_background": "light"
     },
     "output_type": "display_data"
    }
   ],
   "source": [
    "fig = pl.figure(figsize(10,10))\n",
    "norm_w = 1\n",
    "((df['date'][df['>1990'] == 0].groupby([df['date'].dt.weekday]).count()) / norm_w).plot(kind=\"bar\", color='IndianRed', label='<1990')\n",
    "#((df['date'][df['>1990'] == 1].groupby([df['date'].dt.weekday]).count()) / norm_w).plot(kind=\"bar\", color='IndianRed', label='>=1990')\n",
    "norm_m = 1\n",
    "ax = ((df['date'][df['>1990'] == 1].groupby([df['date'].dt.weekday]).count()) / norm_m).plot(kind=\"bar\", color='SteelBlue', alpha=0.5, label='>1990')\n",
    "\n",
    "tmp = ax.xaxis.set_ticklabels(['Mon', 'Tue', 'Wed', 'Thu', 'Fri', 'Sat', 'Sun'], fontsize=20)\n",
    "ax.set_ylabel (\"Number of rides\")\n",
    "ax.set_xlabel (\"Day of the week\")\n",
    "pl.title('Number of rides based on age',fontsize=20)\n",
    "pl.legend()"
   ]
  },
  {
   "cell_type": "code",
   "execution_count": 125,
   "metadata": {},
   "outputs": [
    {
     "name": "stderr",
     "output_type": "stream",
     "text": [
      "/nfshome/yy2908/.conda/envs/Shelly/lib/python3.6/site-packages/pandas/core/indexing.py:543: SettingWithCopyWarning: \n",
      "A value is trying to be set on a copy of a slice from a DataFrame.\n",
      "Try using .loc[row_indexer,col_indexer] = value instead\n",
      "\n",
      "See the caveats in the documentation: http://pandas.pydata.org/pandas-docs/stable/indexing.html#indexing-view-versus-copy\n",
      "  self.obj[item] = s\n"
     ]
    }
   ],
   "source": [
    "df.loc[df['birth year'] > 1990, '>1990'] = 1\n",
    "df.loc[df['birth year'] <= 1990, '>1990'] = 0"
   ]
  },
  {
   "cell_type": "code",
   "execution_count": 137,
   "metadata": {},
   "outputs": [
    {
     "name": "stdout",
     "output_type": "stream",
     "text": [
      "Biker born after 1990: week:0.000, weekend:0.000, weekend error:0.000, weekend error:0.000\n",
      "Biker born before 1990: week:0.000, weekend:0.000, weekend error:0.000, weekend error:0.000\n"
     ]
    },
    {
     "data": {
      "text/plain": [
       "<matplotlib.legend.Legend at 0x7fbf7959dba8>"
      ]
     },
     "execution_count": 137,
     "metadata": {},
     "output_type": "execute_result"
    },
    {
     "data": {
      "image/png": "[encoded data removed]",
      "text/plain": [
       "<Figure size 1080x432 with 2 Axes>"
      ]
     },
     "metadata": {
      "needs_background": "light"
     },
     "output_type": "display_data"
    }
   ],
   "source": [
    "fig = pl.figure(figsize(15,6))\n",
    "ax1 = fig.add_subplot(121)\n",
    "ax2 = fig.add_subplot(122)\n",
    "ax1.set_xticks([])\n",
    "ax2.set_xticks([])\n",
    "\n",
    "counts_1 = df.date[df['birth year'] == 1].groupby([df.date.dt.weekday]).count()\n",
    "norm_1 = 1\n",
    "error_1 = np.sqrt(counts_1)\n",
    "\n",
    "week_1 = sum(counts_1[:-2]) * 1.0 / norm_1  #fraction of women riding on week days\n",
    "weekend_1 = sum(counts_1[-2:]) * 1.0 / norm_1  #fraction of women riding on weekends\n",
    "eweek_1 = np.sqrt(sum(error_1[:-2]**2)) / norm_1  #error on fraction number of women riding on week days\n",
    "eweekend_1 = np.sqrt(sum(error_1[-2:]**2)) / norm_1 #error on fraction number of women riding on weekends\n",
    "\n",
    "#same nomenclature as above\n",
    "counts_2 = df.date[df['birth year'] == 0].groupby([df.date.dt.weekday]).count()\n",
    "norm_2 = 1\n",
    "error_2=np.sqrt(counts_2)\n",
    "week_2 = sum(counts_2[:-2]) * 1.0 / norm_2\n",
    "weekend_2 = sum(counts_2[-2:]) * 1.0 / norm_2\n",
    "eweek_2 = np.sqrt(sum(error_2[:-2]**2)) / norm_2\n",
    "eweekend_2 = np.sqrt(sum(error_2[-2:]**2)) / norm_2\n",
    "\n",
    "print(\"Biker born after 1990: week:{0:.3f}, weekend:{1:.3f}, weekend error:{2:.3f}, weekend error:{3:.3f}\"\\\n",
    "      .format(week_1, weekend_1, eweek_1, eweekend_1))\n",
    "print(\"Biker born before 1990: week:{0:.3f}, weekend:{1:.3f}, weekend error:{2:.3f}, weekend error:{3:.3f}\"\\\n",
    "      .format(week_2, weekend_2, eweek_2, eweekend_2))\n",
    "\n",
    "ax1.errorbar([0.4], [week_1], yerr=[eweek_1], fmt='o', label='after 1990')\n",
    "ax1.errorbar([0.2], [week_2], yerr=[eweek_2], fmt='o', label='before 1990')\n",
    "ax1.set_xlim(0, 0.5)\n",
    "ax2.errorbar([0.4], [weekend_1], yerr=[eweekend_1], fmt='o', label='after 1990')\n",
    "ax2.errorbar([0.2], [weekend_2], yerr=[eweekend_2], fmt='o', label='before 1990')\n",
    "ax1.set_xlim(0, 0.5)\n",
    "ax1.set_title(\"week days\")\n",
    "ax2.set_title(\"weekends\")\n",
    "ax2.set_ylabel(\"Fraction of normalized rides by birth year\")\n",
    "ax1.set_ylabel(\"Fraction of normalized rides by birth year\")\n",
    "\n",
    "pl.xlim(-0.5, 1.5)\n",
    "pl.legend(fontsize = 20)"
   ]
  },
  {
   "cell_type": "code",
   "execution_count": 148,
   "metadata": {},
   "outputs": [
    {
     "name": "stdout",
     "output_type": "stream",
     "text": [
      "The z statistics is nan\n"
     ]
    },
    {
     "name": "stderr",
     "output_type": "stream",
     "text": [
      "/nfshome/yy2908/.conda/envs/Shelly/lib/python3.6/site-packages/ipykernel_launcher.py:3: RuntimeWarning: invalid value encountered in double_scalars\n",
      "  This is separate from the ipykernel package so we can avoid doing imports until\n"
     ]
    }
   ],
   "source": [
    "p = lambda p0, p1, n0, n1: (p0 * n0 + p1 * n1) / (n0 + n1)\n",
    "se = lambda p, n0, n1: np.sqrt(p * (1 - p) * (1.0 / n0 + 1.0 / n1)) #standard error\n",
    "zscore = lambda p0, p1, s : (p0 - p1) / s\n",
    "\n",
    "# calculations\n",
    "\n",
    "sp_stdev_mw = se(p(weekend_1, weekend_2, norm_1, norm_2), norm_1, norm_2)\n",
    "# print (sp_stdev_mw)\n",
    "z = zscore(weekend_1, weekend_2, sp_stdev_mw)\n",
    "print (\"The z statistics is %.2f\"%z)"
   ]
  }
 ],
 "metadata": {
  "kernelspec": {
   "display_name": "Shelly",
   "language": "python",
   "name": "shelly"
  },
  "language_info": {
   "codemirror_mode": {
    "name": "ipython",
    "version": 3
   },
   "file_extension": ".py",
   "mimetype": "text/x-python",
   "name": "python",
   "nbconvert_exporter": "python",
   "pygments_lexer": "ipython3",
   "version": "3.6.6"
  }
 },
 "nbformat": 4,
 "nbformat_minor": 2
}
